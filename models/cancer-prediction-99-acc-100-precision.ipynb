{
 "cells": [
  {
   "cell_type": "markdown",
   "id": "0d8a30ee",
   "metadata": {
    "papermill": {
     "duration": 0.00793,
     "end_time": "2023-04-15T03:33:49.957861",
     "exception": false,
     "start_time": "2023-04-15T03:33:49.949931",
     "status": "completed"
    },
    "tags": []
   },
   "source": [
    "## Diagnosis\n",
    "\n",
    "#### B = Benign Cancer\n",
    "#### M = Malignant Cancer \n",
    "---"
   ]
  },
  {
   "cell_type": "markdown",
   "id": "ad8701a9",
   "metadata": {
    "papermill": {
     "duration": 0.006542,
     "end_time": "2023-04-15T03:33:49.971277",
     "exception": false,
     "start_time": "2023-04-15T03:33:49.964735",
     "status": "completed"
    },
    "tags": []
   },
   "source": [
    "### Imports"
   ]
  },
  {
   "cell_type": "code",
   "execution_count": 1,
   "id": "e87b6021",
   "metadata": {
    "execution": {
     "iopub.execute_input": "2023-04-15T03:33:49.986788Z",
     "iopub.status.busy": "2023-04-15T03:33:49.986316Z",
     "iopub.status.idle": "2023-04-15T03:33:51.792414Z",
     "shell.execute_reply": "2023-04-15T03:33:51.791054Z"
    },
    "papermill": {
     "duration": 1.817467,
     "end_time": "2023-04-15T03:33:51.795505",
     "exception": false,
     "start_time": "2023-04-15T03:33:49.978038",
     "status": "completed"
    },
    "tags": []
   },
   "outputs": [],
   "source": [
    "import pandas as pd\n",
    "import numpy as np\n",
    "\n",
    "from sklearn.model_selection import train_test_split\n",
    "from imblearn.over_sampling import SMOTE\n",
    "from sklearn.ensemble import RandomForestClassifier\n",
    "from sklearn.metrics import accuracy_score, precision_score, recall_score, f1_score"
   ]
  },
  {
   "cell_type": "markdown",
   "id": "fad7067e",
   "metadata": {
    "papermill": {
     "duration": 0.006353,
     "end_time": "2023-04-15T03:33:51.808701",
     "exception": false,
     "start_time": "2023-04-15T03:33:51.802348",
     "status": "completed"
    },
    "tags": []
   },
   "source": [
    "### Data"
   ]
  },
  {
   "cell_type": "code",
   "execution_count": 2,
   "id": "f3067a1b",
   "metadata": {
    "execution": {
     "iopub.execute_input": "2023-04-15T03:33:51.824960Z",
     "iopub.status.busy": "2023-04-15T03:33:51.824530Z",
     "iopub.status.idle": "2023-04-15T03:33:51.853953Z",
     "shell.execute_reply": "2023-04-15T03:33:51.852653Z"
    },
    "papermill": {
     "duration": 0.041517,
     "end_time": "2023-04-15T03:33:51.856935",
     "exception": false,
     "start_time": "2023-04-15T03:33:51.815418",
     "status": "completed"
    },
    "tags": []
   },
   "outputs": [],
   "source": [
    "df = pd.read_csv('/kaggle/input/cancer-data/Cancer_Data.csv')"
   ]
  },
  {
   "cell_type": "code",
   "execution_count": 3,
   "id": "5c565f6e",
   "metadata": {
    "execution": {
     "iopub.execute_input": "2023-04-15T03:33:51.872708Z",
     "iopub.status.busy": "2023-04-15T03:33:51.872238Z",
     "iopub.status.idle": "2023-04-15T03:33:51.921706Z",
     "shell.execute_reply": "2023-04-15T03:33:51.920220Z"
    },
    "papermill": {
     "duration": 0.060975,
     "end_time": "2023-04-15T03:33:51.924856",
     "exception": false,
     "start_time": "2023-04-15T03:33:51.863881",
     "status": "completed"
    },
    "tags": []
   },
   "outputs": [
    {
     "data": {
      "text/html": [
       "<div>\n",
       "<style scoped>\n",
       "    .dataframe tbody tr th:only-of-type {\n",
       "        vertical-align: middle;\n",
       "    }\n",
       "\n",
       "    .dataframe tbody tr th {\n",
       "        vertical-align: top;\n",
       "    }\n",
       "\n",
       "    .dataframe thead th {\n",
       "        text-align: right;\n",
       "    }\n",
       "</style>\n",
       "<table border=\"1\" class=\"dataframe\">\n",
       "  <thead>\n",
       "    <tr style=\"text-align: right;\">\n",
       "      <th></th>\n",
       "      <th>id</th>\n",
       "      <th>diagnosis</th>\n",
       "      <th>radius_mean</th>\n",
       "      <th>texture_mean</th>\n",
       "      <th>perimeter_mean</th>\n",
       "      <th>area_mean</th>\n",
       "      <th>smoothness_mean</th>\n",
       "      <th>compactness_mean</th>\n",
       "      <th>concavity_mean</th>\n",
       "      <th>concave points_mean</th>\n",
       "      <th>...</th>\n",
       "      <th>texture_worst</th>\n",
       "      <th>perimeter_worst</th>\n",
       "      <th>area_worst</th>\n",
       "      <th>smoothness_worst</th>\n",
       "      <th>compactness_worst</th>\n",
       "      <th>concavity_worst</th>\n",
       "      <th>concave points_worst</th>\n",
       "      <th>symmetry_worst</th>\n",
       "      <th>fractal_dimension_worst</th>\n",
       "      <th>Unnamed: 32</th>\n",
       "    </tr>\n",
       "  </thead>\n",
       "  <tbody>\n",
       "    <tr>\n",
       "      <th>0</th>\n",
       "      <td>842302</td>\n",
       "      <td>M</td>\n",
       "      <td>17.99</td>\n",
       "      <td>10.38</td>\n",
       "      <td>122.80</td>\n",
       "      <td>1001.0</td>\n",
       "      <td>0.11840</td>\n",
       "      <td>0.27760</td>\n",
       "      <td>0.3001</td>\n",
       "      <td>0.14710</td>\n",
       "      <td>...</td>\n",
       "      <td>17.33</td>\n",
       "      <td>184.60</td>\n",
       "      <td>2019.0</td>\n",
       "      <td>0.1622</td>\n",
       "      <td>0.6656</td>\n",
       "      <td>0.7119</td>\n",
       "      <td>0.2654</td>\n",
       "      <td>0.4601</td>\n",
       "      <td>0.11890</td>\n",
       "      <td>NaN</td>\n",
       "    </tr>\n",
       "    <tr>\n",
       "      <th>1</th>\n",
       "      <td>842517</td>\n",
       "      <td>M</td>\n",
       "      <td>20.57</td>\n",
       "      <td>17.77</td>\n",
       "      <td>132.90</td>\n",
       "      <td>1326.0</td>\n",
       "      <td>0.08474</td>\n",
       "      <td>0.07864</td>\n",
       "      <td>0.0869</td>\n",
       "      <td>0.07017</td>\n",
       "      <td>...</td>\n",
       "      <td>23.41</td>\n",
       "      <td>158.80</td>\n",
       "      <td>1956.0</td>\n",
       "      <td>0.1238</td>\n",
       "      <td>0.1866</td>\n",
       "      <td>0.2416</td>\n",
       "      <td>0.1860</td>\n",
       "      <td>0.2750</td>\n",
       "      <td>0.08902</td>\n",
       "      <td>NaN</td>\n",
       "    </tr>\n",
       "    <tr>\n",
       "      <th>2</th>\n",
       "      <td>84300903</td>\n",
       "      <td>M</td>\n",
       "      <td>19.69</td>\n",
       "      <td>21.25</td>\n",
       "      <td>130.00</td>\n",
       "      <td>1203.0</td>\n",
       "      <td>0.10960</td>\n",
       "      <td>0.15990</td>\n",
       "      <td>0.1974</td>\n",
       "      <td>0.12790</td>\n",
       "      <td>...</td>\n",
       "      <td>25.53</td>\n",
       "      <td>152.50</td>\n",
       "      <td>1709.0</td>\n",
       "      <td>0.1444</td>\n",
       "      <td>0.4245</td>\n",
       "      <td>0.4504</td>\n",
       "      <td>0.2430</td>\n",
       "      <td>0.3613</td>\n",
       "      <td>0.08758</td>\n",
       "      <td>NaN</td>\n",
       "    </tr>\n",
       "    <tr>\n",
       "      <th>3</th>\n",
       "      <td>84348301</td>\n",
       "      <td>M</td>\n",
       "      <td>11.42</td>\n",
       "      <td>20.38</td>\n",
       "      <td>77.58</td>\n",
       "      <td>386.1</td>\n",
       "      <td>0.14250</td>\n",
       "      <td>0.28390</td>\n",
       "      <td>0.2414</td>\n",
       "      <td>0.10520</td>\n",
       "      <td>...</td>\n",
       "      <td>26.50</td>\n",
       "      <td>98.87</td>\n",
       "      <td>567.7</td>\n",
       "      <td>0.2098</td>\n",
       "      <td>0.8663</td>\n",
       "      <td>0.6869</td>\n",
       "      <td>0.2575</td>\n",
       "      <td>0.6638</td>\n",
       "      <td>0.17300</td>\n",
       "      <td>NaN</td>\n",
       "    </tr>\n",
       "    <tr>\n",
       "      <th>4</th>\n",
       "      <td>84358402</td>\n",
       "      <td>M</td>\n",
       "      <td>20.29</td>\n",
       "      <td>14.34</td>\n",
       "      <td>135.10</td>\n",
       "      <td>1297.0</td>\n",
       "      <td>0.10030</td>\n",
       "      <td>0.13280</td>\n",
       "      <td>0.1980</td>\n",
       "      <td>0.10430</td>\n",
       "      <td>...</td>\n",
       "      <td>16.67</td>\n",
       "      <td>152.20</td>\n",
       "      <td>1575.0</td>\n",
       "      <td>0.1374</td>\n",
       "      <td>0.2050</td>\n",
       "      <td>0.4000</td>\n",
       "      <td>0.1625</td>\n",
       "      <td>0.2364</td>\n",
       "      <td>0.07678</td>\n",
       "      <td>NaN</td>\n",
       "    </tr>\n",
       "  </tbody>\n",
       "</table>\n",
       "<p>5 rows × 33 columns</p>\n",
       "</div>"
      ],
      "text/plain": [
       "         id diagnosis  radius_mean  texture_mean  perimeter_mean  area_mean  \\\n",
       "0    842302         M        17.99         10.38          122.80     1001.0   \n",
       "1    842517         M        20.57         17.77          132.90     1326.0   \n",
       "2  84300903         M        19.69         21.25          130.00     1203.0   \n",
       "3  84348301         M        11.42         20.38           77.58      386.1   \n",
       "4  84358402         M        20.29         14.34          135.10     1297.0   \n",
       "\n",
       "   smoothness_mean  compactness_mean  concavity_mean  concave points_mean  \\\n",
       "0          0.11840           0.27760          0.3001              0.14710   \n",
       "1          0.08474           0.07864          0.0869              0.07017   \n",
       "2          0.10960           0.15990          0.1974              0.12790   \n",
       "3          0.14250           0.28390          0.2414              0.10520   \n",
       "4          0.10030           0.13280          0.1980              0.10430   \n",
       "\n",
       "   ...  texture_worst  perimeter_worst  area_worst  smoothness_worst  \\\n",
       "0  ...          17.33           184.60      2019.0            0.1622   \n",
       "1  ...          23.41           158.80      1956.0            0.1238   \n",
       "2  ...          25.53           152.50      1709.0            0.1444   \n",
       "3  ...          26.50            98.87       567.7            0.2098   \n",
       "4  ...          16.67           152.20      1575.0            0.1374   \n",
       "\n",
       "   compactness_worst  concavity_worst  concave points_worst  symmetry_worst  \\\n",
       "0             0.6656           0.7119                0.2654          0.4601   \n",
       "1             0.1866           0.2416                0.1860          0.2750   \n",
       "2             0.4245           0.4504                0.2430          0.3613   \n",
       "3             0.8663           0.6869                0.2575          0.6638   \n",
       "4             0.2050           0.4000                0.1625          0.2364   \n",
       "\n",
       "   fractal_dimension_worst  Unnamed: 32  \n",
       "0                  0.11890          NaN  \n",
       "1                  0.08902          NaN  \n",
       "2                  0.08758          NaN  \n",
       "3                  0.17300          NaN  \n",
       "4                  0.07678          NaN  \n",
       "\n",
       "[5 rows x 33 columns]"
      ]
     },
     "execution_count": 3,
     "metadata": {},
     "output_type": "execute_result"
    }
   ],
   "source": [
    "df.head()"
   ]
  },
  {
   "cell_type": "markdown",
   "id": "5ea41ce6",
   "metadata": {
    "papermill": {
     "duration": 0.007259,
     "end_time": "2023-04-15T03:33:51.939368",
     "exception": false,
     "start_time": "2023-04-15T03:33:51.932109",
     "status": "completed"
    },
    "tags": []
   },
   "source": [
    "### Drop unnecessary columns"
   ]
  },
  {
   "cell_type": "code",
   "execution_count": 4,
   "id": "f2b7d359",
   "metadata": {
    "execution": {
     "iopub.execute_input": "2023-04-15T03:33:51.955676Z",
     "iopub.status.busy": "2023-04-15T03:33:51.955223Z",
     "iopub.status.idle": "2023-04-15T03:33:51.962703Z",
     "shell.execute_reply": "2023-04-15T03:33:51.961343Z"
    },
    "papermill": {
     "duration": 0.018748,
     "end_time": "2023-04-15T03:33:51.965325",
     "exception": false,
     "start_time": "2023-04-15T03:33:51.946577",
     "status": "completed"
    },
    "tags": []
   },
   "outputs": [],
   "source": [
    "df.drop(['id', 'Unnamed: 32'], axis = 1, inplace = True)"
   ]
  },
  {
   "cell_type": "markdown",
   "id": "8154cf67",
   "metadata": {
    "papermill": {
     "duration": 0.006766,
     "end_time": "2023-04-15T03:33:51.979270",
     "exception": false,
     "start_time": "2023-04-15T03:33:51.972504",
     "status": "completed"
    },
    "tags": []
   },
   "source": [
    "### Descriptive information of the data"
   ]
  },
  {
   "cell_type": "code",
   "execution_count": 5,
   "id": "d3542c44",
   "metadata": {
    "execution": {
     "iopub.execute_input": "2023-04-15T03:33:51.996331Z",
     "iopub.status.busy": "2023-04-15T03:33:51.995915Z",
     "iopub.status.idle": "2023-04-15T03:33:52.026078Z",
     "shell.execute_reply": "2023-04-15T03:33:52.024437Z"
    },
    "papermill": {
     "duration": 0.042365,
     "end_time": "2023-04-15T03:33:52.028703",
     "exception": false,
     "start_time": "2023-04-15T03:33:51.986338",
     "status": "completed"
    },
    "tags": []
   },
   "outputs": [
    {
     "name": "stdout",
     "output_type": "stream",
     "text": [
      "<class 'pandas.core.frame.DataFrame'>\n",
      "RangeIndex: 569 entries, 0 to 568\n",
      "Data columns (total 31 columns):\n",
      " #   Column                   Non-Null Count  Dtype  \n",
      "---  ------                   --------------  -----  \n",
      " 0   diagnosis                569 non-null    object \n",
      " 1   radius_mean              569 non-null    float64\n",
      " 2   texture_mean             569 non-null    float64\n",
      " 3   perimeter_mean           569 non-null    float64\n",
      " 4   area_mean                569 non-null    float64\n",
      " 5   smoothness_mean          569 non-null    float64\n",
      " 6   compactness_mean         569 non-null    float64\n",
      " 7   concavity_mean           569 non-null    float64\n",
      " 8   concave points_mean      569 non-null    float64\n",
      " 9   symmetry_mean            569 non-null    float64\n",
      " 10  fractal_dimension_mean   569 non-null    float64\n",
      " 11  radius_se                569 non-null    float64\n",
      " 12  texture_se               569 non-null    float64\n",
      " 13  perimeter_se             569 non-null    float64\n",
      " 14  area_se                  569 non-null    float64\n",
      " 15  smoothness_se            569 non-null    float64\n",
      " 16  compactness_se           569 non-null    float64\n",
      " 17  concavity_se             569 non-null    float64\n",
      " 18  concave points_se        569 non-null    float64\n",
      " 19  symmetry_se              569 non-null    float64\n",
      " 20  fractal_dimension_se     569 non-null    float64\n",
      " 21  radius_worst             569 non-null    float64\n",
      " 22  texture_worst            569 non-null    float64\n",
      " 23  perimeter_worst          569 non-null    float64\n",
      " 24  area_worst               569 non-null    float64\n",
      " 25  smoothness_worst         569 non-null    float64\n",
      " 26  compactness_worst        569 non-null    float64\n",
      " 27  concavity_worst          569 non-null    float64\n",
      " 28  concave points_worst     569 non-null    float64\n",
      " 29  symmetry_worst           569 non-null    float64\n",
      " 30  fractal_dimension_worst  569 non-null    float64\n",
      "dtypes: float64(30), object(1)\n",
      "memory usage: 137.9+ KB\n"
     ]
    }
   ],
   "source": [
    "df.info()"
   ]
  },
  {
   "cell_type": "code",
   "execution_count": 6,
   "id": "48ef9231",
   "metadata": {
    "execution": {
     "iopub.execute_input": "2023-04-15T03:33:52.045133Z",
     "iopub.status.busy": "2023-04-15T03:33:52.044689Z",
     "iopub.status.idle": "2023-04-15T03:33:52.138453Z",
     "shell.execute_reply": "2023-04-15T03:33:52.136796Z"
    },
    "papermill": {
     "duration": 0.105424,
     "end_time": "2023-04-15T03:33:52.141329",
     "exception": false,
     "start_time": "2023-04-15T03:33:52.035905",
     "status": "completed"
    },
    "tags": []
   },
   "outputs": [
    {
     "data": {
      "text/html": [
       "<div>\n",
       "<style scoped>\n",
       "    .dataframe tbody tr th:only-of-type {\n",
       "        vertical-align: middle;\n",
       "    }\n",
       "\n",
       "    .dataframe tbody tr th {\n",
       "        vertical-align: top;\n",
       "    }\n",
       "\n",
       "    .dataframe thead th {\n",
       "        text-align: right;\n",
       "    }\n",
       "</style>\n",
       "<table border=\"1\" class=\"dataframe\">\n",
       "  <thead>\n",
       "    <tr style=\"text-align: right;\">\n",
       "      <th></th>\n",
       "      <th>radius_mean</th>\n",
       "      <th>texture_mean</th>\n",
       "      <th>perimeter_mean</th>\n",
       "      <th>area_mean</th>\n",
       "      <th>smoothness_mean</th>\n",
       "      <th>compactness_mean</th>\n",
       "      <th>concavity_mean</th>\n",
       "      <th>concave points_mean</th>\n",
       "      <th>symmetry_mean</th>\n",
       "      <th>fractal_dimension_mean</th>\n",
       "      <th>...</th>\n",
       "      <th>radius_worst</th>\n",
       "      <th>texture_worst</th>\n",
       "      <th>perimeter_worst</th>\n",
       "      <th>area_worst</th>\n",
       "      <th>smoothness_worst</th>\n",
       "      <th>compactness_worst</th>\n",
       "      <th>concavity_worst</th>\n",
       "      <th>concave points_worst</th>\n",
       "      <th>symmetry_worst</th>\n",
       "      <th>fractal_dimension_worst</th>\n",
       "    </tr>\n",
       "  </thead>\n",
       "  <tbody>\n",
       "    <tr>\n",
       "      <th>count</th>\n",
       "      <td>569.000000</td>\n",
       "      <td>569.000000</td>\n",
       "      <td>569.000000</td>\n",
       "      <td>569.000000</td>\n",
       "      <td>569.000000</td>\n",
       "      <td>569.000000</td>\n",
       "      <td>569.000000</td>\n",
       "      <td>569.000000</td>\n",
       "      <td>569.000000</td>\n",
       "      <td>569.000000</td>\n",
       "      <td>...</td>\n",
       "      <td>569.000000</td>\n",
       "      <td>569.000000</td>\n",
       "      <td>569.000000</td>\n",
       "      <td>569.000000</td>\n",
       "      <td>569.000000</td>\n",
       "      <td>569.000000</td>\n",
       "      <td>569.000000</td>\n",
       "      <td>569.000000</td>\n",
       "      <td>569.000000</td>\n",
       "      <td>569.000000</td>\n",
       "    </tr>\n",
       "    <tr>\n",
       "      <th>mean</th>\n",
       "      <td>14.127292</td>\n",
       "      <td>19.289649</td>\n",
       "      <td>91.969033</td>\n",
       "      <td>654.889104</td>\n",
       "      <td>0.096360</td>\n",
       "      <td>0.104341</td>\n",
       "      <td>0.088799</td>\n",
       "      <td>0.048919</td>\n",
       "      <td>0.181162</td>\n",
       "      <td>0.062798</td>\n",
       "      <td>...</td>\n",
       "      <td>16.269190</td>\n",
       "      <td>25.677223</td>\n",
       "      <td>107.261213</td>\n",
       "      <td>880.583128</td>\n",
       "      <td>0.132369</td>\n",
       "      <td>0.254265</td>\n",
       "      <td>0.272188</td>\n",
       "      <td>0.114606</td>\n",
       "      <td>0.290076</td>\n",
       "      <td>0.083946</td>\n",
       "    </tr>\n",
       "    <tr>\n",
       "      <th>std</th>\n",
       "      <td>3.524049</td>\n",
       "      <td>4.301036</td>\n",
       "      <td>24.298981</td>\n",
       "      <td>351.914129</td>\n",
       "      <td>0.014064</td>\n",
       "      <td>0.052813</td>\n",
       "      <td>0.079720</td>\n",
       "      <td>0.038803</td>\n",
       "      <td>0.027414</td>\n",
       "      <td>0.007060</td>\n",
       "      <td>...</td>\n",
       "      <td>4.833242</td>\n",
       "      <td>6.146258</td>\n",
       "      <td>33.602542</td>\n",
       "      <td>569.356993</td>\n",
       "      <td>0.022832</td>\n",
       "      <td>0.157336</td>\n",
       "      <td>0.208624</td>\n",
       "      <td>0.065732</td>\n",
       "      <td>0.061867</td>\n",
       "      <td>0.018061</td>\n",
       "    </tr>\n",
       "    <tr>\n",
       "      <th>min</th>\n",
       "      <td>6.981000</td>\n",
       "      <td>9.710000</td>\n",
       "      <td>43.790000</td>\n",
       "      <td>143.500000</td>\n",
       "      <td>0.052630</td>\n",
       "      <td>0.019380</td>\n",
       "      <td>0.000000</td>\n",
       "      <td>0.000000</td>\n",
       "      <td>0.106000</td>\n",
       "      <td>0.049960</td>\n",
       "      <td>...</td>\n",
       "      <td>7.930000</td>\n",
       "      <td>12.020000</td>\n",
       "      <td>50.410000</td>\n",
       "      <td>185.200000</td>\n",
       "      <td>0.071170</td>\n",
       "      <td>0.027290</td>\n",
       "      <td>0.000000</td>\n",
       "      <td>0.000000</td>\n",
       "      <td>0.156500</td>\n",
       "      <td>0.055040</td>\n",
       "    </tr>\n",
       "    <tr>\n",
       "      <th>25%</th>\n",
       "      <td>11.700000</td>\n",
       "      <td>16.170000</td>\n",
       "      <td>75.170000</td>\n",
       "      <td>420.300000</td>\n",
       "      <td>0.086370</td>\n",
       "      <td>0.064920</td>\n",
       "      <td>0.029560</td>\n",
       "      <td>0.020310</td>\n",
       "      <td>0.161900</td>\n",
       "      <td>0.057700</td>\n",
       "      <td>...</td>\n",
       "      <td>13.010000</td>\n",
       "      <td>21.080000</td>\n",
       "      <td>84.110000</td>\n",
       "      <td>515.300000</td>\n",
       "      <td>0.116600</td>\n",
       "      <td>0.147200</td>\n",
       "      <td>0.114500</td>\n",
       "      <td>0.064930</td>\n",
       "      <td>0.250400</td>\n",
       "      <td>0.071460</td>\n",
       "    </tr>\n",
       "    <tr>\n",
       "      <th>50%</th>\n",
       "      <td>13.370000</td>\n",
       "      <td>18.840000</td>\n",
       "      <td>86.240000</td>\n",
       "      <td>551.100000</td>\n",
       "      <td>0.095870</td>\n",
       "      <td>0.092630</td>\n",
       "      <td>0.061540</td>\n",
       "      <td>0.033500</td>\n",
       "      <td>0.179200</td>\n",
       "      <td>0.061540</td>\n",
       "      <td>...</td>\n",
       "      <td>14.970000</td>\n",
       "      <td>25.410000</td>\n",
       "      <td>97.660000</td>\n",
       "      <td>686.500000</td>\n",
       "      <td>0.131300</td>\n",
       "      <td>0.211900</td>\n",
       "      <td>0.226700</td>\n",
       "      <td>0.099930</td>\n",
       "      <td>0.282200</td>\n",
       "      <td>0.080040</td>\n",
       "    </tr>\n",
       "    <tr>\n",
       "      <th>75%</th>\n",
       "      <td>15.780000</td>\n",
       "      <td>21.800000</td>\n",
       "      <td>104.100000</td>\n",
       "      <td>782.700000</td>\n",
       "      <td>0.105300</td>\n",
       "      <td>0.130400</td>\n",
       "      <td>0.130700</td>\n",
       "      <td>0.074000</td>\n",
       "      <td>0.195700</td>\n",
       "      <td>0.066120</td>\n",
       "      <td>...</td>\n",
       "      <td>18.790000</td>\n",
       "      <td>29.720000</td>\n",
       "      <td>125.400000</td>\n",
       "      <td>1084.000000</td>\n",
       "      <td>0.146000</td>\n",
       "      <td>0.339100</td>\n",
       "      <td>0.382900</td>\n",
       "      <td>0.161400</td>\n",
       "      <td>0.317900</td>\n",
       "      <td>0.092080</td>\n",
       "    </tr>\n",
       "    <tr>\n",
       "      <th>max</th>\n",
       "      <td>28.110000</td>\n",
       "      <td>39.280000</td>\n",
       "      <td>188.500000</td>\n",
       "      <td>2501.000000</td>\n",
       "      <td>0.163400</td>\n",
       "      <td>0.345400</td>\n",
       "      <td>0.426800</td>\n",
       "      <td>0.201200</td>\n",
       "      <td>0.304000</td>\n",
       "      <td>0.097440</td>\n",
       "      <td>...</td>\n",
       "      <td>36.040000</td>\n",
       "      <td>49.540000</td>\n",
       "      <td>251.200000</td>\n",
       "      <td>4254.000000</td>\n",
       "      <td>0.222600</td>\n",
       "      <td>1.058000</td>\n",
       "      <td>1.252000</td>\n",
       "      <td>0.291000</td>\n",
       "      <td>0.663800</td>\n",
       "      <td>0.207500</td>\n",
       "    </tr>\n",
       "  </tbody>\n",
       "</table>\n",
       "<p>8 rows × 30 columns</p>\n",
       "</div>"
      ],
      "text/plain": [
       "       radius_mean  texture_mean  perimeter_mean    area_mean  \\\n",
       "count   569.000000    569.000000      569.000000   569.000000   \n",
       "mean     14.127292     19.289649       91.969033   654.889104   \n",
       "std       3.524049      4.301036       24.298981   351.914129   \n",
       "min       6.981000      9.710000       43.790000   143.500000   \n",
       "25%      11.700000     16.170000       75.170000   420.300000   \n",
       "50%      13.370000     18.840000       86.240000   551.100000   \n",
       "75%      15.780000     21.800000      104.100000   782.700000   \n",
       "max      28.110000     39.280000      188.500000  2501.000000   \n",
       "\n",
       "       smoothness_mean  compactness_mean  concavity_mean  concave points_mean  \\\n",
       "count       569.000000        569.000000      569.000000           569.000000   \n",
       "mean          0.096360          0.104341        0.088799             0.048919   \n",
       "std           0.014064          0.052813        0.079720             0.038803   \n",
       "min           0.052630          0.019380        0.000000             0.000000   \n",
       "25%           0.086370          0.064920        0.029560             0.020310   \n",
       "50%           0.095870          0.092630        0.061540             0.033500   \n",
       "75%           0.105300          0.130400        0.130700             0.074000   \n",
       "max           0.163400          0.345400        0.426800             0.201200   \n",
       "\n",
       "       symmetry_mean  fractal_dimension_mean  ...  radius_worst  \\\n",
       "count     569.000000              569.000000  ...    569.000000   \n",
       "mean        0.181162                0.062798  ...     16.269190   \n",
       "std         0.027414                0.007060  ...      4.833242   \n",
       "min         0.106000                0.049960  ...      7.930000   \n",
       "25%         0.161900                0.057700  ...     13.010000   \n",
       "50%         0.179200                0.061540  ...     14.970000   \n",
       "75%         0.195700                0.066120  ...     18.790000   \n",
       "max         0.304000                0.097440  ...     36.040000   \n",
       "\n",
       "       texture_worst  perimeter_worst   area_worst  smoothness_worst  \\\n",
       "count     569.000000       569.000000   569.000000        569.000000   \n",
       "mean       25.677223       107.261213   880.583128          0.132369   \n",
       "std         6.146258        33.602542   569.356993          0.022832   \n",
       "min        12.020000        50.410000   185.200000          0.071170   \n",
       "25%        21.080000        84.110000   515.300000          0.116600   \n",
       "50%        25.410000        97.660000   686.500000          0.131300   \n",
       "75%        29.720000       125.400000  1084.000000          0.146000   \n",
       "max        49.540000       251.200000  4254.000000          0.222600   \n",
       "\n",
       "       compactness_worst  concavity_worst  concave points_worst  \\\n",
       "count         569.000000       569.000000            569.000000   \n",
       "mean            0.254265         0.272188              0.114606   \n",
       "std             0.157336         0.208624              0.065732   \n",
       "min             0.027290         0.000000              0.000000   \n",
       "25%             0.147200         0.114500              0.064930   \n",
       "50%             0.211900         0.226700              0.099930   \n",
       "75%             0.339100         0.382900              0.161400   \n",
       "max             1.058000         1.252000              0.291000   \n",
       "\n",
       "       symmetry_worst  fractal_dimension_worst  \n",
       "count      569.000000               569.000000  \n",
       "mean         0.290076                 0.083946  \n",
       "std          0.061867                 0.018061  \n",
       "min          0.156500                 0.055040  \n",
       "25%          0.250400                 0.071460  \n",
       "50%          0.282200                 0.080040  \n",
       "75%          0.317900                 0.092080  \n",
       "max          0.663800                 0.207500  \n",
       "\n",
       "[8 rows x 30 columns]"
      ]
     },
     "execution_count": 6,
     "metadata": {},
     "output_type": "execute_result"
    }
   ],
   "source": [
    "df.describe()"
   ]
  },
  {
   "cell_type": "markdown",
   "id": "88c940c2",
   "metadata": {
    "papermill": {
     "duration": 0.007676,
     "end_time": "2023-04-15T03:33:52.156680",
     "exception": false,
     "start_time": "2023-04-15T03:33:52.149004",
     "status": "completed"
    },
    "tags": []
   },
   "source": [
    "### Checking null values"
   ]
  },
  {
   "cell_type": "code",
   "execution_count": 7,
   "id": "9e389fa4",
   "metadata": {
    "execution": {
     "iopub.execute_input": "2023-04-15T03:33:52.173871Z",
     "iopub.status.busy": "2023-04-15T03:33:52.173369Z",
     "iopub.status.idle": "2023-04-15T03:33:52.183936Z",
     "shell.execute_reply": "2023-04-15T03:33:52.182941Z"
    },
    "papermill": {
     "duration": 0.022099,
     "end_time": "2023-04-15T03:33:52.186414",
     "exception": false,
     "start_time": "2023-04-15T03:33:52.164315",
     "status": "completed"
    },
    "tags": []
   },
   "outputs": [
    {
     "data": {
      "text/plain": [
       "diagnosis                  0\n",
       "radius_mean                0\n",
       "texture_mean               0\n",
       "perimeter_mean             0\n",
       "area_mean                  0\n",
       "smoothness_mean            0\n",
       "compactness_mean           0\n",
       "concavity_mean             0\n",
       "concave points_mean        0\n",
       "symmetry_mean              0\n",
       "fractal_dimension_mean     0\n",
       "radius_se                  0\n",
       "texture_se                 0\n",
       "perimeter_se               0\n",
       "area_se                    0\n",
       "smoothness_se              0\n",
       "compactness_se             0\n",
       "concavity_se               0\n",
       "concave points_se          0\n",
       "symmetry_se                0\n",
       "fractal_dimension_se       0\n",
       "radius_worst               0\n",
       "texture_worst              0\n",
       "perimeter_worst            0\n",
       "area_worst                 0\n",
       "smoothness_worst           0\n",
       "compactness_worst          0\n",
       "concavity_worst            0\n",
       "concave points_worst       0\n",
       "symmetry_worst             0\n",
       "fractal_dimension_worst    0\n",
       "dtype: int64"
      ]
     },
     "execution_count": 7,
     "metadata": {},
     "output_type": "execute_result"
    }
   ],
   "source": [
    "df.isna().sum()"
   ]
  },
  {
   "cell_type": "markdown",
   "id": "9c315795",
   "metadata": {
    "papermill": {
     "duration": 0.007827,
     "end_time": "2023-04-15T03:33:52.202101",
     "exception": false,
     "start_time": "2023-04-15T03:33:52.194274",
     "status": "completed"
    },
    "tags": []
   },
   "source": [
    "### Removing outliers"
   ]
  },
  {
   "cell_type": "code",
   "execution_count": 8,
   "id": "6bd68411",
   "metadata": {
    "execution": {
     "iopub.execute_input": "2023-04-15T03:33:52.220661Z",
     "iopub.status.busy": "2023-04-15T03:33:52.219634Z",
     "iopub.status.idle": "2023-04-15T03:33:52.265311Z",
     "shell.execute_reply": "2023-04-15T03:33:52.264067Z"
    },
    "papermill": {
     "duration": 0.05842,
     "end_time": "2023-04-15T03:33:52.268544",
     "exception": false,
     "start_time": "2023-04-15T03:33:52.210124",
     "status": "completed"
    },
    "tags": []
   },
   "outputs": [],
   "source": [
    "# Threshold value to define the range for identifying outliers\n",
    "threshold = 5\n",
    "\n",
    "# Loop through all columns in the DataFrame, excluding the diagnosis\n",
    "for column in df.loc[:, ~df.columns.isin(['diagnosis'])]:  \n",
    "    \n",
    "    # Mean and STD of the column\n",
    "    mean = df[column].mean()\n",
    "    std = df[column].std()\n",
    "\n",
    "    # Lower and Upper limits\n",
    "    lower_limit = mean - threshold * std\n",
    "    upper_limit = mean + threshold * std\n",
    "\n",
    "    # Remove outliers\n",
    "    df = df[(df[column] >= lower_limit) & (df[column] <= upper_limit)]"
   ]
  },
  {
   "cell_type": "code",
   "execution_count": 9,
   "id": "829f9443",
   "metadata": {
    "execution": {
     "iopub.execute_input": "2023-04-15T03:33:52.287276Z",
     "iopub.status.busy": "2023-04-15T03:33:52.286833Z",
     "iopub.status.idle": "2023-04-15T03:33:52.294823Z",
     "shell.execute_reply": "2023-04-15T03:33:52.293429Z"
    },
    "papermill": {
     "duration": 0.021143,
     "end_time": "2023-04-15T03:33:52.297799",
     "exception": false,
     "start_time": "2023-04-15T03:33:52.276656",
     "status": "completed"
    },
    "tags": []
   },
   "outputs": [
    {
     "data": {
      "text/plain": [
       "(551, 31)"
      ]
     },
     "execution_count": 9,
     "metadata": {},
     "output_type": "execute_result"
    }
   ],
   "source": [
    "df.shape"
   ]
  },
  {
   "cell_type": "markdown",
   "id": "b83f256e",
   "metadata": {
    "papermill": {
     "duration": 0.007676,
     "end_time": "2023-04-15T03:33:52.314105",
     "exception": false,
     "start_time": "2023-04-15T03:33:52.306429",
     "status": "completed"
    },
    "tags": []
   },
   "source": [
    "### Swapping B and M for 0 and 1"
   ]
  },
  {
   "cell_type": "code",
   "execution_count": 10,
   "id": "714a9271",
   "metadata": {
    "execution": {
     "iopub.execute_input": "2023-04-15T03:33:52.332944Z",
     "iopub.status.busy": "2023-04-15T03:33:52.332514Z",
     "iopub.status.idle": "2023-04-15T03:33:52.339746Z",
     "shell.execute_reply": "2023-04-15T03:33:52.338457Z"
    },
    "papermill": {
     "duration": 0.020514,
     "end_time": "2023-04-15T03:33:52.342710",
     "exception": false,
     "start_time": "2023-04-15T03:33:52.322196",
     "status": "completed"
    },
    "tags": []
   },
   "outputs": [],
   "source": [
    "df['diagnosis'] = df['diagnosis'].map({'B' : 0, 'M' : 1})"
   ]
  },
  {
   "cell_type": "markdown",
   "id": "8c6fbade",
   "metadata": {
    "papermill": {
     "duration": 0.008183,
     "end_time": "2023-04-15T03:33:52.358913",
     "exception": false,
     "start_time": "2023-04-15T03:33:52.350730",
     "status": "completed"
    },
    "tags": []
   },
   "source": [
    "### Split the data into X and y"
   ]
  },
  {
   "cell_type": "code",
   "execution_count": 11,
   "id": "197619d6",
   "metadata": {
    "execution": {
     "iopub.execute_input": "2023-04-15T03:33:52.377853Z",
     "iopub.status.busy": "2023-04-15T03:33:52.377437Z",
     "iopub.status.idle": "2023-04-15T03:33:52.383986Z",
     "shell.execute_reply": "2023-04-15T03:33:52.382663Z"
    },
    "papermill": {
     "duration": 0.019276,
     "end_time": "2023-04-15T03:33:52.386643",
     "exception": false,
     "start_time": "2023-04-15T03:33:52.367367",
     "status": "completed"
    },
    "tags": []
   },
   "outputs": [],
   "source": [
    "X = df.drop('diagnosis', axis = 1)\n",
    "y = df['diagnosis']"
   ]
  },
  {
   "cell_type": "markdown",
   "id": "ae22d2b9",
   "metadata": {
    "papermill": {
     "duration": 0.007586,
     "end_time": "2023-04-15T03:33:52.402272",
     "exception": false,
     "start_time": "2023-04-15T03:33:52.394686",
     "status": "completed"
    },
    "tags": []
   },
   "source": [
    "### Split X and y into Train and Test"
   ]
  },
  {
   "cell_type": "code",
   "execution_count": 12,
   "id": "20c98cac",
   "metadata": {
    "execution": {
     "iopub.execute_input": "2023-04-15T03:33:52.420565Z",
     "iopub.status.busy": "2023-04-15T03:33:52.420121Z",
     "iopub.status.idle": "2023-04-15T03:33:52.429906Z",
     "shell.execute_reply": "2023-04-15T03:33:52.428933Z"
    },
    "papermill": {
     "duration": 0.022565,
     "end_time": "2023-04-15T03:33:52.432804",
     "exception": false,
     "start_time": "2023-04-15T03:33:52.410239",
     "status": "completed"
    },
    "tags": []
   },
   "outputs": [],
   "source": [
    "xtrain, xtest, ytrain, ytest = train_test_split(X, y, stratify = y, test_size = 0.25, random_state = 42)"
   ]
  },
  {
   "cell_type": "markdown",
   "id": "975a9758",
   "metadata": {
    "papermill": {
     "duration": 0.007667,
     "end_time": "2023-04-15T03:33:52.448550",
     "exception": false,
     "start_time": "2023-04-15T03:33:52.440883",
     "status": "completed"
    },
    "tags": []
   },
   "source": [
    "### Data Balancing"
   ]
  },
  {
   "cell_type": "code",
   "execution_count": 13,
   "id": "d1cc5490",
   "metadata": {
    "execution": {
     "iopub.execute_input": "2023-04-15T03:33:52.466199Z",
     "iopub.status.busy": "2023-04-15T03:33:52.465732Z",
     "iopub.status.idle": "2023-04-15T03:33:52.507775Z",
     "shell.execute_reply": "2023-04-15T03:33:52.505892Z"
    },
    "papermill": {
     "duration": 0.056455,
     "end_time": "2023-04-15T03:33:52.512884",
     "exception": false,
     "start_time": "2023-04-15T03:33:52.456429",
     "status": "completed"
    },
    "tags": []
   },
   "outputs": [
    {
     "name": "stdout",
     "output_type": "stream",
     "text": [
      "Distribution BEFORE balancing:\n",
      "0    262\n",
      "1    151\n",
      "Name: diagnosis, dtype: int64\n",
      "=-=-=-=-=-=-=-=-=-=-=-=-=-=-=-=-\n",
      "Distribution AFTER balancing:\n",
      "0    262\n",
      "1    262\n",
      "Name: diagnosis, dtype: int64\n"
     ]
    }
   ],
   "source": [
    "# Instantiating SMOTE\n",
    "smt = SMOTE(random_state = 0)\n",
    "\n",
    "# Data Balancing\n",
    "xtrain_res, ytrain_res = smt.fit_resample(xtrain, ytrain)\n",
    "\n",
    "print(f'Distribution BEFORE balancing:\\n{ytrain.value_counts()}')\n",
    "print('=-'*16)\n",
    "print(f'Distribution AFTER balancing:\\n{ytrain_res.value_counts()}')"
   ]
  },
  {
   "cell_type": "markdown",
   "id": "e72685a4",
   "metadata": {
    "papermill": {
     "duration": 0.020259,
     "end_time": "2023-04-15T03:33:52.553945",
     "exception": false,
     "start_time": "2023-04-15T03:33:52.533686",
     "status": "completed"
    },
    "tags": []
   },
   "source": [
    "### Training"
   ]
  },
  {
   "cell_type": "code",
   "execution_count": 14,
   "id": "60c59ae5",
   "metadata": {
    "execution": {
     "iopub.execute_input": "2023-04-15T03:33:52.599122Z",
     "iopub.status.busy": "2023-04-15T03:33:52.598311Z",
     "iopub.status.idle": "2023-04-15T03:33:52.840554Z",
     "shell.execute_reply": "2023-04-15T03:33:52.839217Z"
    },
    "papermill": {
     "duration": 0.268214,
     "end_time": "2023-04-15T03:33:52.843222",
     "exception": false,
     "start_time": "2023-04-15T03:33:52.575008",
     "status": "completed"
    },
    "tags": []
   },
   "outputs": [
    {
     "data": {
      "text/plain": [
       "RandomForestClassifier(max_depth=5, random_state=0)"
      ]
     },
     "execution_count": 14,
     "metadata": {},
     "output_type": "execute_result"
    }
   ],
   "source": [
    "rf = RandomForestClassifier(max_depth = 5, random_state = 0)\n",
    "rf.fit(xtrain_res, ytrain_res)"
   ]
  },
  {
   "cell_type": "markdown",
   "id": "7824ca70",
   "metadata": {
    "papermill": {
     "duration": 0.007763,
     "end_time": "2023-04-15T03:33:52.859308",
     "exception": false,
     "start_time": "2023-04-15T03:33:52.851545",
     "status": "completed"
    },
    "tags": []
   },
   "source": [
    "### Predicting "
   ]
  },
  {
   "cell_type": "code",
   "execution_count": 15,
   "id": "d9013035",
   "metadata": {
    "execution": {
     "iopub.execute_input": "2023-04-15T03:33:52.877984Z",
     "iopub.status.busy": "2023-04-15T03:33:52.877534Z",
     "iopub.status.idle": "2023-04-15T03:33:52.900367Z",
     "shell.execute_reply": "2023-04-15T03:33:52.898987Z"
    },
    "papermill": {
     "duration": 0.035609,
     "end_time": "2023-04-15T03:33:52.903466",
     "exception": false,
     "start_time": "2023-04-15T03:33:52.867857",
     "status": "completed"
    },
    "tags": []
   },
   "outputs": [],
   "source": [
    "pred = rf.predict(xtest)"
   ]
  },
  {
   "cell_type": "markdown",
   "id": "82ebaa0a",
   "metadata": {
    "papermill": {
     "duration": 0.008078,
     "end_time": "2023-04-15T03:33:52.919952",
     "exception": false,
     "start_time": "2023-04-15T03:33:52.911874",
     "status": "completed"
    },
    "tags": []
   },
   "source": [
    "### Results"
   ]
  },
  {
   "cell_type": "code",
   "execution_count": 16,
   "id": "745692a5",
   "metadata": {
    "execution": {
     "iopub.execute_input": "2023-04-15T03:33:52.938957Z",
     "iopub.status.busy": "2023-04-15T03:33:52.938486Z",
     "iopub.status.idle": "2023-04-15T03:33:52.951504Z",
     "shell.execute_reply": "2023-04-15T03:33:52.949873Z"
    },
    "papermill": {
     "duration": 0.026113,
     "end_time": "2023-04-15T03:33:52.954470",
     "exception": false,
     "start_time": "2023-04-15T03:33:52.928357",
     "status": "completed"
    },
    "tags": []
   },
   "outputs": [
    {
     "name": "stdout",
     "output_type": "stream",
     "text": [
      "Accuracy: 0.9927536231884058\n",
      "Precision: 1.0\n",
      "Recall: 0.9803921568627451\n",
      "F1 Score: 0.99009900990099\n"
     ]
    }
   ],
   "source": [
    "accuracy = accuracy_score(ytest, pred)\n",
    "precision = precision_score(ytest, pred)\n",
    "recall = recall_score(ytest, pred)\n",
    "f1 = f1_score(ytest, pred)\n",
    "\n",
    "print('Accuracy:', accuracy)\n",
    "print('Precision:', precision)\n",
    "print('Recall:', recall)\n",
    "print('F1 Score:', f1)"
   ]
  },
  {
   "cell_type": "markdown",
   "id": "890d7be1",
   "metadata": {
    "papermill": {
     "duration": 0.008127,
     "end_time": "2023-04-15T03:33:52.970981",
     "exception": false,
     "start_time": "2023-04-15T03:33:52.962854",
     "status": "completed"
    },
    "tags": []
   },
   "source": [
    "### Thank you, if this helped you, vote!"
   ]
  }
 ],
 "metadata": {
  "kernelspec": {
   "display_name": "Python 3",
   "language": "python",
   "name": "python3"
  },
  "language_info": {
   "codemirror_mode": {
    "name": "ipython",
    "version": 3
   },
   "file_extension": ".py",
   "mimetype": "text/x-python",
   "name": "python",
   "nbconvert_exporter": "python",
   "pygments_lexer": "ipython3",
   "version": "3.7.12"
  },
  "papermill": {
   "default_parameters": {},
   "duration": 14.943012,
   "end_time": "2023-04-15T03:33:53.803533",
   "environment_variables": {},
   "exception": null,
   "input_path": "__notebook__.ipynb",
   "output_path": "__notebook__.ipynb",
   "parameters": {},
   "start_time": "2023-04-15T03:33:38.860521",
   "version": "2.4.0"
  }
 },
 "nbformat": 4,
 "nbformat_minor": 5
}
